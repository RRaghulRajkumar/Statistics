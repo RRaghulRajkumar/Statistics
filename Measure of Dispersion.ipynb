{
 "cells": [
  {
   "cell_type": "markdown",
   "id": "c4e43548",
   "metadata": {},
   "source": [
    "# Measure Of Dispersion"
   ]
  },
  {
   "cell_type": "markdown",
   "id": "ab1e4b5d",
   "metadata": {},
   "source": [
    "Variance and standard deviation are both measures of dispersion that quantify how spread out the values in a dataset are from the mean. They provide insights into the variability of data points and play a significant role in understanding the distribution of data.\n",
    "\n",
    "1. **Variance:**\n",
    "   Variance is a statistical measure that calculates the average of the squared differences between each data point and the mean of the dataset. It's used to capture the extent to which individual data points deviate from the mean. The formula for variance, denoted as σ² (for a population) or s² (for a sample), is as follows:\n",
    "\n",
    "   **Population Variance (σ²):**\n",
    "   σ² = Σ (xi - μ)² / N\n",
    "\n",
    "   **Sample Variance (s²):**\n",
    "   s² = Σ (xi - x̄)² / (n - 1)\n",
    "\n",
    "   where:\n",
    "   - xi: Individual data point\n",
    "   - μ (or x̄): Mean of the dataset\n",
    "   - N: Total number of data points (population size)\n",
    "   - n: Total number of data points in the sample\n",
    "\n",
    "   Variance is measured in squared units, which can make it less intuitive to interpret. The squared terms in the formula emphasize larger deviations more than smaller ones, making it sensitive to outliers.\n",
    "\n",
    "2. **Standard Deviation:**\n",
    "   The standard deviation is the square root of the variance. It's a more commonly used measure of dispersion because it's in the same units as the original data, making it easier to interpret. The formula for standard deviation, denoted as σ (for a population) or s (for a sample), is as follows:\n",
    "\n",
    "   **Population Standard Deviation (σ):**\n",
    "   σ = √σ²\n",
    "\n",
    "   **Sample Standard Deviation (s):**\n",
    "   s = √s²\n",
    "\n",
    "   The standard deviation provides a measure of the average distance between each data point and the mean. It's widely used to describe the spread of data and assess the variability within a dataset. Higher standard deviations indicate greater variability.\n",
    "\n",
    "Both variance and standard deviation offer insights into the distribution of data points. However, when interpreting these measures, it's important to keep in mind that they can be heavily influenced by outliers. If the dataset contains extreme values, they can lead to larger variance and standard deviation values, potentially distorting the perception of variability. In such cases, considering robust measures of dispersion, like the interquartile range (IQR) or mean absolute deviation (MAD), may provide a better understanding of the central spread of data."
   ]
  },
  {
   "cell_type": "markdown",
   "id": "92f93a52",
   "metadata": {},
   "source": [
    "## Varience"
   ]
  },
  {
   "cell_type": "code",
   "execution_count": 1,
   "id": "a67c567f",
   "metadata": {},
   "outputs": [],
   "source": [
    "import numpy as np\n",
    "ages=[12,98,43,25,22,67,86,15,15]\n"
   ]
  },
  {
   "cell_type": "code",
   "execution_count": 2,
   "id": "899d396d",
   "metadata": {},
   "outputs": [
    {
     "data": {
      "text/plain": [
       "42.55555555555556"
      ]
     },
     "execution_count": 2,
     "metadata": {},
     "output_type": "execute_result"
    }
   ],
   "source": [
    "np.mean(ages)"
   ]
  },
  {
   "cell_type": "code",
   "execution_count": 3,
   "id": "89c93507",
   "metadata": {},
   "outputs": [
    {
     "data": {
      "text/plain": [
       "971.3580246913581"
      ]
     },
     "execution_count": 3,
     "metadata": {},
     "output_type": "execute_result"
    }
   ],
   "source": [
    "np.var(ages)"
   ]
  },
  {
   "cell_type": "markdown",
   "id": "854554c6",
   "metadata": {},
   "source": [
    "## Standard Deviation"
   ]
  },
  {
   "cell_type": "code",
   "execution_count": 4,
   "id": "893b4e76",
   "metadata": {},
   "outputs": [
    {
     "data": {
      "text/plain": [
       "31.16661715187194"
      ]
     },
     "execution_count": 4,
     "metadata": {},
     "output_type": "execute_result"
    }
   ],
   "source": [
    "np.std(ages)"
   ]
  },
  {
   "cell_type": "code",
   "execution_count": null,
   "id": "799bac1f",
   "metadata": {},
   "outputs": [],
   "source": []
  }
 ],
 "metadata": {
  "kernelspec": {
   "display_name": "Python 3 (ipykernel)",
   "language": "python",
   "name": "python3"
  },
  "language_info": {
   "codemirror_mode": {
    "name": "ipython",
    "version": 3
   },
   "file_extension": ".py",
   "mimetype": "text/x-python",
   "name": "python",
   "nbconvert_exporter": "python",
   "pygments_lexer": "ipython3",
   "version": "3.9.13"
  }
 },
 "nbformat": 4,
 "nbformat_minor": 5
}
