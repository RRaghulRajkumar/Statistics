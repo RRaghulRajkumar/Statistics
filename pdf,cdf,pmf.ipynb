{
 "cells": [
  {
   "cell_type": "markdown",
   "id": "665d27fe",
   "metadata": {},
   "source": [
    "PDF (Probability Density Function), CDF (Cumulative Distribution Function), and PMF (Probability Mass Function) are fundamental concepts in probability theory and statistics that help describe the behavior of random variables, both continuous and discrete. Let's delve into each of these concepts:\n",
    "\n",
    "1. **PDF (Probability Density Function):**\n",
    "The PDF is used to describe the distribution of a continuous random variable. It provides information about the likelihood of the variable taking on specific values within a given range. The PDF is denoted as \\(f(x)\\) and satisfies two properties:\n",
    "   - \\(f(x) \\geq 0\\) for all \\(x\\).\n",
    "   - The integral of \\(f(x)\\) over its entire range equals 1.\n",
    "   \n",
    "   Mathematically, for a continuous random variable \\(X\\), the probability that \\(X\\) falls within a specific interval \\([a, b]\\) is given by the integral of the PDF over that interval:\n",
    "   \n",
    "   \\[ P(a \\leq X \\leq b) = \\int_a^b f(x) \\, dx \\]\n",
    "\n",
    "2. **CDF (Cumulative Distribution Function):**\n",
    "The CDF is a function that gives the cumulative probability that a random variable takes on a value less than or equal to a given value. For both continuous and discrete random variables, the CDF is denoted as \\(F(x)\\). In the continuous case, the CDF is defined as the integral of the PDF up to a particular value \\(x\\):\n",
    "\n",
    "   \\[ F(x) = \\int_{-\\infty}^x f(t) \\, dt \\]\n",
    "   \n",
    "   In the discrete case, the CDF is the sum of the PMF up to a particular value \\(x\\).\n",
    "\n",
    "3. **PMF (Probability Mass Function):**\n",
    "The PMF is used to describe the distribution of a discrete random variable. It gives the probability of the variable taking on a specific value. Mathematically, for a discrete random variable \\(X\\), the PMF is denoted as \\(P(X = x)\\) and satisfies two properties:\n",
    "   - \\(P(X = x) \\geq 0\\) for all \\(x\\).\n",
    "   - The sum of the PMF over all possible values of \\(X\\) equals 1.\n",
    "\n",
    "   In other words, the PMF tells you the probability that a discrete random variable \\(X\\) takes on a particular value \\(x\\).\n",
    "\n",
    "In summary, the PDF is used for continuous random variables to describe the probability density, the CDF provides the cumulative probability for both continuous and discrete variables, and the PMF describes the probability distribution of discrete random variables. These concepts are crucial for understanding and analyzing the behavior of random variables in probability theory and statistics."
   ]
  },
  {
   "cell_type": "markdown",
   "id": "447e5caa",
   "metadata": {},
   "source": []
  },
  {
   "cell_type": "markdown",
   "id": "84c32f7f",
   "metadata": {},
   "source": [
    "# Bernoulli distribution "
   ]
  },
  {
   "cell_type": "markdown",
   "id": "82ed9dc8",
   "metadata": {},
   "source": [
    "The Bernoulli distribution is one of the simplest and most fundamental discrete probability distributions in statistics. It describes a random experiment with two possible outcomes: success (usually denoted as 1) or failure (usually denoted as 0). This distribution is named after Jacob Bernoulli, a Swiss mathematician from the 18th century.\n",
    "\n",
    "Here are the key characteristics of the Bernoulli distribution:\n",
    "\n",
    "- **Probability Mass Function (PMF):** The probability mass function of a Bernoulli-distributed random variable \\(X\\) is given by:\n",
    "  \n",
    "  \\[ P(X = x) = \n",
    "    \\begin{cases} \n",
    "      p & \\text{if } x = 1 \\\\\n",
    "      1 - p & \\text{if } x = 0\n",
    "    \\end{cases}\n",
    "  \\]\n",
    "  \n",
    "  Where \\(p\\) is the probability of success and \\(1 - p\\) is the probability of failure. The values of \\(p\\) and \\(1 - p\\) must sum to 1.\n",
    "\n",
    "- **Mean and Variance:** The mean (expected value) of a Bernoulli-distributed random variable is \\(E(X) = p\\), and the variance is \\(Var(X) = p(1 - p)\\).\n",
    "\n",
    "- **Applications:** The Bernoulli distribution is commonly used to model situations with binary outcomes, such as:\n",
    "  - Flipping a coin (heads or tails)\n",
    "  - Success or failure of a single trial (e.g., a customer making a purchase or not)\n",
    "  - True or false outcomes in various scenarios\n",
    "\n",
    "- **Relation to Binomial Distribution:** The Bernoulli distribution is the simplest case of the binomial distribution, which describes the number of successes in a fixed number of independent Bernoulli trials. If you repeat a Bernoulli trial \\(n\\) times independently and count the number of successes, you have a binomial distribution.\n",
    "\n",
    "Mathematically, the Bernoulli distribution can be represented as a special case of the binomial distribution with \\(n = 1\\), where \\(n\\) is the number of trials.\n",
    "\n",
    "In summary, the Bernoulli distribution is a foundational concept in probability theory, often used as a building block for more complex distributions and as a simple model for situations involving two possible outcomes."
   ]
  },
  {
   "cell_type": "markdown",
   "id": "ddc72252",
   "metadata": {},
   "source": [
    " # Binomial distribution"
   ]
  },
  {
   "cell_type": "markdown",
   "id": "70f28cd1",
   "metadata": {},
   "source": [
    "The binomial distribution is a discrete probability distribution that models the number of successes in a fixed number of independent Bernoulli trials. Each trial has two possible outcomes: success with probability \\(p\\) and failure with probability \\(1 - p\\). The binomial distribution is named after the Latin word \"binomium,\" which means \"two names,\" referring to the two possible outcomes of each trial.\n",
    "\n",
    "Here are the key characteristics of the binomial distribution:\n",
    "\n",
    "- **Probability Mass Function (PMF):** The probability mass function of a binomially-distributed random variable \\(X\\) with parameters \\(n\\) (number of trials) and \\(p\\) (probability of success) is given by:\n",
    "\n",
    "  \\[ P(X = k) = \\binom{n}{k} \\cdot p^k \\cdot (1 - p)^{n - k} \\]\n",
    "  \n",
    "  Where \\(\\binom{n}{k}\\) is the binomial coefficient, which represents the number of ways to choose \\(k\\) successes out of \\(n\\) trials. It is defined as \\(\\binom{n}{k} = \\frac{n!}{k!(n - k)!}\\), where \\(n!\\) denotes the factorial of \\(n\\).\n",
    "\n",
    "- **Mean and Variance:** The mean (expected value) of a binomially-distributed random variable is \\(E(X) = np\\), and the variance is \\(Var(X) = np(1 - p)\\).\n",
    "\n",
    "- **Applications:** The binomial distribution is used to model situations involving repeated independent trials, each with two possible outcomes, such as:\n",
    "  - The number of heads in a series of coin flips\n",
    "  - The number of successful conversions in a series of advertising clicks\n",
    "  - The number of defective items in a batch of products\n",
    "\n",
    "- **Relation to Bernoulli Distribution:** The binomial distribution generalizes the Bernoulli distribution. A single Bernoulli trial can be seen as a binomial distribution with \\(n = 1\\).\n",
    "\n",
    "- **Assumptions:** The binomial distribution assumes that the trials are independent and that the probability of success (\\(p\\)) remains constant across all trials.\n",
    "\n",
    "In summary, the binomial distribution is a powerful tool for modeling the number of successes in a fixed number of independent trials with two possible outcomes. It's widely used in various fields, including statistics, probability theory, and applied sciences, to analyze and understand processes involving discrete events."
   ]
  },
  {
   "cell_type": "markdown",
   "id": "ed7c2353",
   "metadata": {},
   "source": [
    "# Poisson distribution"
   ]
  },
  {
   "cell_type": "markdown",
   "id": "35d6c913",
   "metadata": {},
   "source": [
    "The Poisson distribution is a discrete probability distribution that describes the number of events that occur within a fixed interval of time or space, given a known average rate of occurrence. It is named after the French mathematician Siméon Denis Poisson. The Poisson distribution is particularly useful for modeling rare events that occur randomly and independently.\n",
    "\n",
    "Key characteristics of the Poisson distribution:\n",
    "\n",
    "- **Probability Mass Function (PMF):** The probability mass function of a Poisson-distributed random variable \\(X\\) with parameter \\(\\lambda\\) (average rate of occurrence) is given by:\n",
    "\n",
    "  \\[ P(X = k) = \\frac{e^{-\\lambda} \\cdot \\lambda^k}{k!} \\]\n",
    "\n",
    "  Where \\(k\\) is the number of events and \\(e\\) is the base of the natural logarithm.\n",
    "\n",
    "- **Mean and Variance:** The mean (expected value) and variance of a Poisson-distributed random variable are both equal to \\(\\lambda\\).\n",
    "\n",
    "- **Applications:** The Poisson distribution is commonly used to model rare events or phenomena that occur independently over a fixed interval, such as:\n",
    "  - The number of phone calls received at a call center in a given hour\n",
    "  - The number of accidents at a specific intersection in a day\n",
    "  - The number of emails received per day\n",
    "\n",
    "- **Assumptions:** The Poisson distribution assumes that events occur independently and at a constant average rate within the interval.\n",
    "\n",
    "- **Limitations:** The Poisson distribution is most accurate when the average rate \\(\\lambda\\) is relatively small and the events are rare. If \\(\\lambda\\) becomes large, the distribution approaches a normal distribution due to the central limit theorem.\n",
    "\n",
    "- **Connection to Other Distributions:** The Poisson distribution can also arise as an approximation to the binomial distribution when the number of trials is large (\\(n\\) is large) and the probability of success (\\(p\\)) is small, while keeping the average rate \\(\\lambda = np\\) constant.\n",
    "\n",
    "In summary, the Poisson distribution is a valuable tool for modeling the number of rare events occurring in a fixed interval, given a known average rate of occurrence. It is widely used in fields such as statistics, biology, telecommunications, and economics to analyze and predict events with low probabilities of occurrence."
   ]
  },
  {
   "cell_type": "markdown",
   "id": "19f70961",
   "metadata": {},
   "source": [
    "# Normal or Gaussian distribution"
   ]
  },
  {
   "cell_type": "markdown",
   "id": "b36de4b9",
   "metadata": {},
   "source": [
    "The normal distribution, often referred to as the Gaussian distribution, is a continuous probability distribution that is widely used in statistics and probability theory to describe real-valued random variables. It is one of the most important distributions due to its prevalence in various natural and social phenomena, as well as its mathematical properties.\n",
    "\n",
    "Key characteristics of the normal distribution:\n",
    "\n",
    "- **Probability Density Function (PDF):** The probability density function of a normally-distributed random variable \\(X\\) with parameters \\(\\mu\\) (mean) and \\(\\sigma\\) (standard deviation) is given by:\n",
    "\n",
    "  \\[ f(x) = \\frac{1}{\\sigma \\sqrt{2\\pi}} \\cdot e^{-\\frac{(x - \\mu)^2}{2\\sigma^2}} \\]\n",
    "  \n",
    "  Where \\(e\\) is the base of the natural logarithm, \\(\\pi\\) is the mathematical constant pi, and \\(x\\) represents the value of the random variable.\n",
    "\n",
    "- **Symmetry and Bell Curve:** The normal distribution is symmetric around its mean \\(\\mu\\), resulting in a characteristic bell-shaped curve. The mean, median, and mode of the distribution are all equal and located at its center.\n",
    "\n",
    "- **Empirical Rule (68-95-99.7 Rule):** In a normal distribution, approximately:\n",
    "  - 68% of the data falls within one standard deviation (\\(\\sigma\\)) of the mean (\\(\\mu\\)).\n",
    "  - 95% falls within two standard deviations (\\(2\\sigma\\)) of the mean.\n",
    "  - 99.7% falls within three standard deviations (\\(3\\sigma\\)) of the mean.\n",
    "\n",
    "- **Standard Normal Distribution:** A special case of the normal distribution is the standard normal distribution, which has a mean of 0 (\\(\\mu = 0\\)) and a standard deviation of 1 (\\(\\sigma = 1\\)). A standard normal random variable is denoted as \\(Z\\), and its values are often referred to as z-scores.\n",
    "\n",
    "- **Applications:** The normal distribution is commonly used to model a wide range of natural and social phenomena, such as:\n",
    "  - Heights and weights of individuals in a population\n",
    "  - Test scores and IQ scores\n",
    "  - Errors in measurements and observations\n",
    "\n",
    "- **Central Limit Theorem:** The normal distribution plays a central role in the Central Limit Theorem, which states that the sum (or average) of a large number of independent and identically distributed random variables approaches a normal distribution, regardless of the original distribution of the variables.\n",
    "\n",
    "In summary, the normal distribution is a fundamental concept in statistics, widely used for modeling continuous random variables due to its symmetry, bell-shaped curve, and prevalence in various real-world scenarios. It simplifies many statistical analyses and provides a basis for understanding the behavior of random variables under various conditions."
   ]
  },
  {
   "cell_type": "code",
   "execution_count": null,
   "id": "b63fa7bf",
   "metadata": {},
   "outputs": [],
   "source": []
  }
 ],
 "metadata": {
  "kernelspec": {
   "display_name": "Python 3 (ipykernel)",
   "language": "python",
   "name": "python3"
  },
  "language_info": {
   "codemirror_mode": {
    "name": "ipython",
    "version": 3
   },
   "file_extension": ".py",
   "mimetype": "text/x-python",
   "name": "python",
   "nbconvert_exporter": "python",
   "pygments_lexer": "ipython3",
   "version": "3.9.13"
  }
 },
 "nbformat": 4,
 "nbformat_minor": 5
}
