{
 "cells": [
  {
   "cell_type": "markdown",
   "id": "b4fac14f",
   "metadata": {},
   "source": [
    "# Measure Of Central Tendency"
   ]
  },
  {
   "cell_type": "markdown",
   "id": "a092e5b9",
   "metadata": {},
   "source": [
    " In machine learning and statistics, a measure of central tendency is a concept used to describe the central or average value of a dataset. It provides a way to summarize the data by identifying a representative value around which the data points tend to cluster. There are three main measures of central tendency: the mean, median, and mode."
   ]
  },
  {
   "cell_type": "markdown",
   "id": "5cb2671c",
   "metadata": {},
   "source": [
    "* Mean: The mean is the most common measure of central tendency. It is calculated by adding up all the values in the dataset and then dividing by the number of values. The mean is sensitive to outliers; if there are extreme values in the dataset, they can heavily influence the mean.\n",
    "\n",
    "* Median: The median is the middle value of a dataset when it is arranged in ascending or descending order. It is not affected by extreme values (outliers) as much as the mean, making it a more robust measure of central tendency in the presence of outliers.\n",
    "\n",
    "* Mode: The mode is the value that appears most frequently in the dataset. A dataset can have one mode (unimodal), two modes (bimodal), or more than two modes (multimodal). Unlike the mean and median, the mode is not necessarily unique and may not exist at all in some datasets.\n",
    "\n"
   ]
  },
  {
   "cell_type": "markdown",
   "id": "6a4b2c53",
   "metadata": {},
   "source": [
    "The choice of which measure of central tendency to use depends on the characteristics of the data and the specific analysis you are performing. In some cases, a combination of these measures might provide a more comprehensive understanding of the data's central tendency.\n",
    "\n",
    "When working with machine learning algorithms or statistical analysis, it's important to consider these measures to better understand the distribution and characteristics of your data. Each measure provides valuable insights into the data's central behavior, and using them appropriately can help in making more informed decisions in various applications.\n",
    "\n",
    "\n",
    "\n",
    "\n"
   ]
  },
  {
   "cell_type": "markdown",
   "id": "d9924497",
   "metadata": {},
   "source": [
    "## Mean"
   ]
  },
  {
   "cell_type": "code",
   "execution_count": 1,
   "id": "95ccbf52",
   "metadata": {},
   "outputs": [],
   "source": [
    "import numpy as np"
   ]
  },
  {
   "cell_type": "code",
   "execution_count": 4,
   "id": "f4406f8e",
   "metadata": {},
   "outputs": [
    {
     "data": {
      "text/plain": [
       "27.571428571428573"
      ]
     },
     "execution_count": 4,
     "metadata": {},
     "output_type": "execute_result"
    }
   ],
   "source": [
    "ages=[12,15,16,44,12,60,34]\n",
    "np.mean(ages)"
   ]
  },
  {
   "cell_type": "code",
   "execution_count": 5,
   "id": "5eaed671",
   "metadata": {},
   "outputs": [
    {
     "data": {
      "text/plain": [
       "149.125"
      ]
     },
     "execution_count": 5,
     "metadata": {},
     "output_type": "execute_result"
    }
   ],
   "source": [
    "## When We have outliers\n",
    "ages_with_outliers=[12,15,16,44,12,60,34,1000]\n",
    "np.mean(ages_with_outliers)"
   ]
  },
  {
   "cell_type": "code",
   "execution_count": 6,
   "id": "b08d9621",
   "metadata": {},
   "outputs": [],
   "source": [
    "## the mean values differs in great number when outliers are present so now we will be using median technic"
   ]
  },
  {
   "cell_type": "markdown",
   "id": "95074944",
   "metadata": {},
   "source": [
    "## Median"
   ]
  },
  {
   "cell_type": "code",
   "execution_count": 7,
   "id": "d17fca7a",
   "metadata": {},
   "outputs": [
    {
     "data": {
      "text/plain": [
       "16.0"
      ]
     },
     "execution_count": 7,
     "metadata": {},
     "output_type": "execute_result"
    }
   ],
   "source": [
    "np.median(ages)"
   ]
  },
  {
   "cell_type": "code",
   "execution_count": 8,
   "id": "d83be338",
   "metadata": {},
   "outputs": [
    {
     "data": {
      "text/plain": [
       "25.0"
      ]
     },
     "execution_count": 8,
     "metadata": {},
     "output_type": "execute_result"
    }
   ],
   "source": [
    "np.median(ages_with_outliers)"
   ]
  },
  {
   "cell_type": "code",
   "execution_count": 9,
   "id": "dc50f17b",
   "metadata": {},
   "outputs": [],
   "source": [
    "## Now the mean value without outlier and median value with outlier are somewhat equal to similar"
   ]
  },
  {
   "cell_type": "markdown",
   "id": "e5fa6b07",
   "metadata": {},
   "source": [
    "## Mode"
   ]
  },
  {
   "cell_type": "code",
   "execution_count": 12,
   "id": "de4b1479",
   "metadata": {},
   "outputs": [],
   "source": [
    "from scipy import stats as sp"
   ]
  },
  {
   "cell_type": "code",
   "execution_count": 13,
   "id": "fe789738",
   "metadata": {},
   "outputs": [
    {
     "name": "stderr",
     "output_type": "stream",
     "text": [
      "/var/folders/tf/98dxj1b15ys366q5nv4rmfxh0000gn/T/ipykernel_30662/551303876.py:1: FutureWarning: Unlike other reduction functions (e.g. `skew`, `kurtosis`), the default behavior of `mode` typically preserves the axis it acts along. In SciPy 1.11.0, this behavior will change: the default value of `keepdims` will become False, the `axis` over which the statistic is taken will be eliminated, and the value None will no longer be accepted. Set `keepdims` to True or False to avoid this warning.\n",
      "  sp.mode(ages)\n"
     ]
    },
    {
     "data": {
      "text/plain": [
       "ModeResult(mode=array([12]), count=array([2]))"
      ]
     },
     "execution_count": 13,
     "metadata": {},
     "output_type": "execute_result"
    }
   ],
   "source": [
    "sp.mode(ages)"
   ]
  },
  {
   "cell_type": "code",
   "execution_count": 14,
   "id": "a0135f85",
   "metadata": {},
   "outputs": [
    {
     "name": "stderr",
     "output_type": "stream",
     "text": [
      "/var/folders/tf/98dxj1b15ys366q5nv4rmfxh0000gn/T/ipykernel_30662/569280487.py:1: FutureWarning: Unlike other reduction functions (e.g. `skew`, `kurtosis`), the default behavior of `mode` typically preserves the axis it acts along. In SciPy 1.11.0, this behavior will change: the default value of `keepdims` will become False, the `axis` over which the statistic is taken will be eliminated, and the value None will no longer be accepted. Set `keepdims` to True or False to avoid this warning.\n",
      "  sp.mode(ages_with_outliers)\n"
     ]
    },
    {
     "data": {
      "text/plain": [
       "ModeResult(mode=array([12]), count=array([2]))"
      ]
     },
     "execution_count": 14,
     "metadata": {},
     "output_type": "execute_result"
    }
   ],
   "source": [
    "sp.mode(ages_with_outliers)"
   ]
  },
  {
   "cell_type": "code",
   "execution_count": null,
   "id": "dad385db",
   "metadata": {},
   "outputs": [],
   "source": []
  }
 ],
 "metadata": {
  "kernelspec": {
   "display_name": "Python 3 (ipykernel)",
   "language": "python",
   "name": "python3"
  },
  "language_info": {
   "codemirror_mode": {
    "name": "ipython",
    "version": 3
   },
   "file_extension": ".py",
   "mimetype": "text/x-python",
   "name": "python",
   "nbconvert_exporter": "python",
   "pygments_lexer": "ipython3",
   "version": "3.9.13"
  }
 },
 "nbformat": 4,
 "nbformat_minor": 5
}
