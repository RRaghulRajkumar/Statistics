{
 "cells": [
  {
   "cell_type": "markdown",
   "id": "0b20ca74",
   "metadata": {},
   "source": [
    "In machine learning (ML), understanding the relationships between variables is crucial for building accurate and effective models. Two important concepts that help in quantifying relationships between variables are covariance and correlation.\n",
    "\n",
    "1. **Covariance:**\n",
    "Covariance is a measure that indicates the extent to which two variables change together. If the values of two variables tend to increase or decrease together, their covariance will be positive. If one variable tends to increase while the other decreases, their covariance will be negative. A covariance close to zero indicates that there is little to no linear relationship between the variables.\n",
    "\n",
    "Mathematically, the covariance between two variables X and Y is calculated using the following formula:\n",
    "\n",
    "Cov(X, Y) = Σ [(xi - μx) * (yi - μy)] / N\n",
    "\n",
    "where:\n",
    "- xi, yi: Individual data points for variables X and Y\n",
    "- μx, μy: Means of variables X and Y\n",
    "- N: Total number of data points\n",
    "\n",
    "However, interpreting the magnitude of covariance can be challenging, as it depends on the scales of the variables. Therefore, covariance isn't always a standardized measure for comparing relationships.\n",
    "\n",
    "2. **Correlation:**\n",
    "Correlation is a standardized measure that quantifies the strength and direction of the linear relationship between two variables. It's normalized to always fall within the range of -1 to 1. A correlation coefficient of +1 indicates a perfect positive linear relationship, -1 indicates a perfect negative linear relationship, and 0 indicates no linear relationship.\n",
    "\n",
    "The most commonly used correlation coefficient is Pearson's correlation coefficient (r), which is calculated as:\n",
    "\n",
    "r = Cov(X, Y) / (σx * σy)\n",
    "\n",
    "where:\n",
    "- Cov(X, Y): Covariance between variables X and Y\n",
    "- σx, σy: Standard deviations of variables X and Y\n",
    "\n",
    "Correlation is a valuable tool for understanding how changes in one variable relate to changes in another. It is particularly useful in feature selection, identifying multicollinearity (when variables are highly correlated), and gaining insights into the relationships between features in your dataset.\n",
    "\n",
    "In summary, covariance and correlation are essential concepts in machine learning for assessing relationships between variables. Covariance provides a basic understanding of whether variables tend to vary together or in opposite directions, while correlation quantifies the strength and direction of linear relationships in a standardized way. Both concepts are fundamental for feature engineering, model selection, and understanding the underlying patterns within your data."
   ]
  },
  {
   "cell_type": "code",
   "execution_count": 1,
   "id": "837b99d7",
   "metadata": {},
   "outputs": [],
   "source": [
    "import seaborn as sns"
   ]
  },
  {
   "cell_type": "code",
   "execution_count": 4,
   "id": "25f57494",
   "metadata": {},
   "outputs": [],
   "source": [
    "df=sns.load_dataset('healthexp')"
   ]
  },
  {
   "cell_type": "code",
   "execution_count": 5,
   "id": "6301b53d",
   "metadata": {},
   "outputs": [
    {
     "data": {
      "text/html": [
       "<div>\n",
       "<style scoped>\n",
       "    .dataframe tbody tr th:only-of-type {\n",
       "        vertical-align: middle;\n",
       "    }\n",
       "\n",
       "    .dataframe tbody tr th {\n",
       "        vertical-align: top;\n",
       "    }\n",
       "\n",
       "    .dataframe thead th {\n",
       "        text-align: right;\n",
       "    }\n",
       "</style>\n",
       "<table border=\"1\" class=\"dataframe\">\n",
       "  <thead>\n",
       "    <tr style=\"text-align: right;\">\n",
       "      <th></th>\n",
       "      <th>Year</th>\n",
       "      <th>Country</th>\n",
       "      <th>Spending_USD</th>\n",
       "      <th>Life_Expectancy</th>\n",
       "    </tr>\n",
       "  </thead>\n",
       "  <tbody>\n",
       "    <tr>\n",
       "      <th>0</th>\n",
       "      <td>1970</td>\n",
       "      <td>Germany</td>\n",
       "      <td>252.311</td>\n",
       "      <td>70.6</td>\n",
       "    </tr>\n",
       "    <tr>\n",
       "      <th>1</th>\n",
       "      <td>1970</td>\n",
       "      <td>France</td>\n",
       "      <td>192.143</td>\n",
       "      <td>72.2</td>\n",
       "    </tr>\n",
       "    <tr>\n",
       "      <th>2</th>\n",
       "      <td>1970</td>\n",
       "      <td>Great Britain</td>\n",
       "      <td>123.993</td>\n",
       "      <td>71.9</td>\n",
       "    </tr>\n",
       "    <tr>\n",
       "      <th>3</th>\n",
       "      <td>1970</td>\n",
       "      <td>Japan</td>\n",
       "      <td>150.437</td>\n",
       "      <td>72.0</td>\n",
       "    </tr>\n",
       "    <tr>\n",
       "      <th>4</th>\n",
       "      <td>1970</td>\n",
       "      <td>USA</td>\n",
       "      <td>326.961</td>\n",
       "      <td>70.9</td>\n",
       "    </tr>\n",
       "  </tbody>\n",
       "</table>\n",
       "</div>"
      ],
      "text/plain": [
       "   Year        Country  Spending_USD  Life_Expectancy\n",
       "0  1970        Germany       252.311             70.6\n",
       "1  1970         France       192.143             72.2\n",
       "2  1970  Great Britain       123.993             71.9\n",
       "3  1970          Japan       150.437             72.0\n",
       "4  1970            USA       326.961             70.9"
      ]
     },
     "execution_count": 5,
     "metadata": {},
     "output_type": "execute_result"
    }
   ],
   "source": [
    "df.head()"
   ]
  },
  {
   "cell_type": "code",
   "execution_count": 7,
   "id": "0ff15341",
   "metadata": {},
   "outputs": [
    {
     "data": {
      "text/html": [
       "<div>\n",
       "<style scoped>\n",
       "    .dataframe tbody tr th:only-of-type {\n",
       "        vertical-align: middle;\n",
       "    }\n",
       "\n",
       "    .dataframe tbody tr th {\n",
       "        vertical-align: top;\n",
       "    }\n",
       "\n",
       "    .dataframe thead th {\n",
       "        text-align: right;\n",
       "    }\n",
       "</style>\n",
       "<table border=\"1\" class=\"dataframe\">\n",
       "  <thead>\n",
       "    <tr style=\"text-align: right;\">\n",
       "      <th></th>\n",
       "      <th>Year</th>\n",
       "      <th>Spending_USD</th>\n",
       "      <th>Life_Expectancy</th>\n",
       "    </tr>\n",
       "  </thead>\n",
       "  <tbody>\n",
       "    <tr>\n",
       "      <th>Year</th>\n",
       "      <td>201.098848</td>\n",
       "      <td>2.571883e+04</td>\n",
       "      <td>41.915454</td>\n",
       "    </tr>\n",
       "    <tr>\n",
       "      <th>Spending_USD</th>\n",
       "      <td>25718.827373</td>\n",
       "      <td>4.817761e+06</td>\n",
       "      <td>4166.800912</td>\n",
       "    </tr>\n",
       "    <tr>\n",
       "      <th>Life_Expectancy</th>\n",
       "      <td>41.915454</td>\n",
       "      <td>4.166801e+03</td>\n",
       "      <td>10.733902</td>\n",
       "    </tr>\n",
       "  </tbody>\n",
       "</table>\n",
       "</div>"
      ],
      "text/plain": [
       "                         Year  Spending_USD  Life_Expectancy\n",
       "Year               201.098848  2.571883e+04        41.915454\n",
       "Spending_USD     25718.827373  4.817761e+06      4166.800912\n",
       "Life_Expectancy     41.915454  4.166801e+03        10.733902"
      ]
     },
     "execution_count": 7,
     "metadata": {},
     "output_type": "execute_result"
    }
   ],
   "source": [
    "## covarience\n",
    "df.cov()"
   ]
  },
  {
   "cell_type": "markdown",
   "id": "791e22b6",
   "metadata": {},
   "source": [
    "## correlation\n",
    "### spearmen\n",
    "\n",
    "Spearman's rank correlation coefficient is a valuable tool for assessing the strength and direction of monotonic relationships between variables. It's a non-parametric alternative to Pearson's correlation that is particularly useful when dealing with nonlinear relationships or ordinal data.\n"
   ]
  },
  {
   "cell_type": "code",
   "execution_count": 10,
   "id": "9c384a14",
   "metadata": {},
   "outputs": [
    {
     "data": {
      "text/html": [
       "<div>\n",
       "<style scoped>\n",
       "    .dataframe tbody tr th:only-of-type {\n",
       "        vertical-align: middle;\n",
       "    }\n",
       "\n",
       "    .dataframe tbody tr th {\n",
       "        vertical-align: top;\n",
       "    }\n",
       "\n",
       "    .dataframe thead th {\n",
       "        text-align: right;\n",
       "    }\n",
       "</style>\n",
       "<table border=\"1\" class=\"dataframe\">\n",
       "  <thead>\n",
       "    <tr style=\"text-align: right;\">\n",
       "      <th></th>\n",
       "      <th>Year</th>\n",
       "      <th>Spending_USD</th>\n",
       "      <th>Life_Expectancy</th>\n",
       "    </tr>\n",
       "  </thead>\n",
       "  <tbody>\n",
       "    <tr>\n",
       "      <th>Year</th>\n",
       "      <td>1.000000</td>\n",
       "      <td>0.931598</td>\n",
       "      <td>0.896117</td>\n",
       "    </tr>\n",
       "    <tr>\n",
       "      <th>Spending_USD</th>\n",
       "      <td>0.931598</td>\n",
       "      <td>1.000000</td>\n",
       "      <td>0.747407</td>\n",
       "    </tr>\n",
       "    <tr>\n",
       "      <th>Life_Expectancy</th>\n",
       "      <td>0.896117</td>\n",
       "      <td>0.747407</td>\n",
       "      <td>1.000000</td>\n",
       "    </tr>\n",
       "  </tbody>\n",
       "</table>\n",
       "</div>"
      ],
      "text/plain": [
       "                     Year  Spending_USD  Life_Expectancy\n",
       "Year             1.000000      0.931598         0.896117\n",
       "Spending_USD     0.931598      1.000000         0.747407\n",
       "Life_Expectancy  0.896117      0.747407         1.000000"
      ]
     },
     "execution_count": 10,
     "metadata": {},
     "output_type": "execute_result"
    }
   ],
   "source": [
    "df.corr(method='spearman')"
   ]
  },
  {
   "cell_type": "markdown",
   "id": "ec1ccff9",
   "metadata": {},
   "source": [
    "### pearson\n",
    "Pearson's correlation coefficient, often denoted as \"r,\" is a statistical measure that quantifies the strength and direction of a linear relationship between two continuous variables. It ranges from -1 to 1, where -1 indicates a perfect negative linear relationship, 1 indicates a perfect positive linear relationship, and 0 indicates no linear relationship between the variables."
   ]
  },
  {
   "cell_type": "code",
   "execution_count": 11,
   "id": "3df5a2d1",
   "metadata": {},
   "outputs": [
    {
     "data": {
      "text/html": [
       "<div>\n",
       "<style scoped>\n",
       "    .dataframe tbody tr th:only-of-type {\n",
       "        vertical-align: middle;\n",
       "    }\n",
       "\n",
       "    .dataframe tbody tr th {\n",
       "        vertical-align: top;\n",
       "    }\n",
       "\n",
       "    .dataframe thead th {\n",
       "        text-align: right;\n",
       "    }\n",
       "</style>\n",
       "<table border=\"1\" class=\"dataframe\">\n",
       "  <thead>\n",
       "    <tr style=\"text-align: right;\">\n",
       "      <th></th>\n",
       "      <th>Year</th>\n",
       "      <th>Spending_USD</th>\n",
       "      <th>Life_Expectancy</th>\n",
       "    </tr>\n",
       "  </thead>\n",
       "  <tbody>\n",
       "    <tr>\n",
       "      <th>Year</th>\n",
       "      <td>1.000000</td>\n",
       "      <td>0.826273</td>\n",
       "      <td>0.902175</td>\n",
       "    </tr>\n",
       "    <tr>\n",
       "      <th>Spending_USD</th>\n",
       "      <td>0.826273</td>\n",
       "      <td>1.000000</td>\n",
       "      <td>0.579430</td>\n",
       "    </tr>\n",
       "    <tr>\n",
       "      <th>Life_Expectancy</th>\n",
       "      <td>0.902175</td>\n",
       "      <td>0.579430</td>\n",
       "      <td>1.000000</td>\n",
       "    </tr>\n",
       "  </tbody>\n",
       "</table>\n",
       "</div>"
      ],
      "text/plain": [
       "                     Year  Spending_USD  Life_Expectancy\n",
       "Year             1.000000      0.826273         0.902175\n",
       "Spending_USD     0.826273      1.000000         0.579430\n",
       "Life_Expectancy  0.902175      0.579430         1.000000"
      ]
     },
     "execution_count": 11,
     "metadata": {},
     "output_type": "execute_result"
    }
   ],
   "source": [
    "df.corr(method='pearson')"
   ]
  },
  {
   "cell_type": "markdown",
   "id": "6d34561d",
   "metadata": {},
   "source": [
    "# Skewness"
   ]
  },
  {
   "cell_type": "markdown",
   "id": "043b5949",
   "metadata": {},
   "source": [
    "Skewness is a statistical measure that describes the asymmetry of the probability distribution of a dataset. It indicates the degree to which the data is skewed, or \"lopsided,\" towards one tail of the distribution. In other words, it measures the extent to which the values are concentrated on one side of the mean compared to the other side.\n",
    "\n",
    "Skewness is important because it provides insights into the shape of the distribution and helps to understand the departure from symmetry. There are three main types of skewness:\n",
    "\n",
    "1. **Negative Skewness (Left Skewness):**\n",
    "   A distribution is negatively skewed when the tail on the left side of the distribution is longer or fatter than the tail on the right side. This means that the majority of the data points are concentrated towards the right side, and the distribution is stretched towards the left. The mean is typically less than the median in a negatively skewed distribution.\n",
    "\n",
    "2. **Positive Skewness (Right Skewness):**\n",
    "   A distribution is positively skewed when the tail on the right side of the distribution is longer or fatter than the tail on the left side. In this case, the majority of the data points are concentrated towards the left side, and the distribution is stretched towards the right. The mean is usually greater than the median in a positively skewed distribution.\n",
    "\n",
    "3. **No Skewness (Symmetrical Distribution):**\n",
    "   A distribution is symmetrical when it is balanced around its mean, and both tails are of equal length. In a symmetrical distribution, the mean and the median are approximately equal.\n",
    "\n",
    "Mathematically, skewness is often quantified using various formulas, with one common method being the Pearson's First Coefficient of Skewness:\n",
    "\n",
    "\\[ \\text{Skewness} = \\frac{3 \\times (\\text{Mean} - \\text{Median})}{\\text{Standard Deviation}} \\]\n",
    "\n",
    "Positive values of skewness indicate positive skew (right skew), negative values indicate negative skew (left skew), and a skewness value of 0 indicates a symmetrical distribution.\n",
    "\n",
    "Skewness is a useful measure when dealing with datasets that might not follow a normal distribution. In data analysis, understanding the skewness of a dataset can help in choosing appropriate statistical techniques and making accurate interpretations of the data."
   ]
  },
  {
   "attachments": {
    "skewness.png": {
     "image/png": "[encoded data removed]"
    }
   },
   "cell_type": "markdown",
   "id": "fd9ae65e",
   "metadata": {},
   "source": [
    "![skewness.png](attachment:skewness.png)"
   ]
  },
  {
   "cell_type": "code",
   "execution_count": null,
   "id": "21b290b3",
   "metadata": {},
   "outputs": [],
   "source": []
  }
 ],
 "metadata": {
  "kernelspec": {
   "display_name": "Python 3 (ipykernel)",
   "language": "python",
   "name": "python3"
  },
  "language_info": {
   "codemirror_mode": {
    "name": "ipython",
    "version": 3
   },
   "file_extension": ".py",
   "mimetype": "text/x-python",
   "name": "python",
   "nbconvert_exporter": "python",
   "pygments_lexer": "ipython3",
   "version": "3.9.13"
  }
 },
 "nbformat": 4,
 "nbformat_minor": 5
}
